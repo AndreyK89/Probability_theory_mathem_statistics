{
 "cells": [
  {
   "cell_type": "markdown",
   "id": "ae9f943e",
   "metadata": {},
   "source": [
    "Теория вероятностей и математическая статистика (семинары).  \n",
    "Урок 5. Тестирование гипотез.\n",
    "\n",
    "### Задача 1.  \n",
    "Когда используется критерий Стьюдента, а когда Z –критерий?"
   ]
  },
  {
   "cell_type": "markdown",
   "id": "f1153b2c",
   "metadata": {},
   "source": [
    "#### Ответ:  \n",
    "$Z$-критерий используется, когда $ИЗВЕСТНА$ дисперсия $\\sigma$ генеральной совокупности,  \n",
    "и когда размер выборки велик, т.е. n> 30:  \n",
    "$Формула: Z_н=\\frac{\\bar X-\\mu}{\\sigma/\\sqrt n}$    \n",
    "$t$-критерий (Стьюдента) используется, когда дисперсия $\\sigma$ генеральной совокупности $НЕИЗВЕСТНА$,  \n",
    "и когда размер выборки мал, т.е n < 30:  \n",
    "$Формула: t_н=\\frac{\\bar X-\\mu}{\\sigma_n/\\sqrt n}$"
   ]
  },
  {
   "cell_type": "markdown",
   "id": "cd968c2f",
   "metadata": {},
   "source": [
    "### Задача 2.  \n",
    "Проведите тест гипотезы. Утверждается, что шарики для подшипников, изготовленные\n",
    "автоматическим станком, имеют средний диаметр 17 мм.\n",
    "Используя односторонний критерий с α=0,05, проверить эту гипотезу, если в выборке из\n",
    "n=100 шариков средний диаметр\n",
    "оказался равным 17.5 мм, а дисперсия известна и равна 4 кв. мм."
   ]
  },
  {
   "cell_type": "markdown",
   "id": "77fd7ad2",
   "metadata": {},
   "source": [
    "### Решение:  \n",
    "Сформулируем нулевую гипотезу:  \n",
    "    $H0: \\mu=\\mu_0=17$, где $\\mu$ и $\\mu_0$ средние выборки и генеральной совокупности и выборки, соответственно.  \n",
    "Альтернативная гипотеза:  \n",
    "$H1: \\mu>\\mu_0$  \n",
    "Поскольку нам известны и среднее и дисперсия генеральной совокупности, то для проверки гипотезы будем использовать $Z$-критерий.  \n",
    "$z_н=\\frac{\\bar X-\\mu_0}{\\sigma/\\sqrt n}$, где  \n",
    "$\\bar X=\\mu=17.5$ среднее по выборке,  \n",
    "$\\sigma=\\sqrt 4=2$ среднее квадратическое отклонение генеральной совокупности,  \n",
    "$n=100$ размер выборки."
   ]
  },
  {
   "cell_type": "code",
   "execution_count": 6,
   "id": "a2842f80",
   "metadata": {},
   "outputs": [
    {
     "name": "stdout",
     "output_type": "stream",
     "text": [
      "Наблюдаемое значение Z-критерия:  2.5000\n"
     ]
    }
   ],
   "source": [
    "z=(17.5-17)/0.2\n",
    "print(f'Наблюдаемое значение Z-критерия: {z: .4f}')"
   ]
  },
  {
   "cell_type": "markdown",
   "id": "af0f5931",
   "metadata": {},
   "source": [
    "Найдем табличное значение $Z$-критерия, для $\\alpha=0.05$"
   ]
  },
  {
   "cell_type": "code",
   "execution_count": 22,
   "id": "fab9107a",
   "metadata": {},
   "outputs": [
    {
     "name": "stdout",
     "output_type": "stream",
     "text": [
      "Табличное значение Z-критерия:  1.6449\n"
     ]
    }
   ],
   "source": [
    "import scipy.stats as stats\n",
    "zt=stats.norm.ppf(0.95)\n",
    "print(f'Табличное значение Z-критерия: {zt: .4f}')"
   ]
  },
  {
   "cell_type": "markdown",
   "id": "b93e7ba2",
   "metadata": {},
   "source": [
    "Сравним полученные значения:"
   ]
  },
  {
   "cell_type": "code",
   "execution_count": 18,
   "id": "1db2d15f",
   "metadata": {},
   "outputs": [
    {
     "data": {
      "text/plain": [
       "False"
      ]
     },
     "execution_count": 18,
     "metadata": {},
     "output_type": "execute_result"
    }
   ],
   "source": [
    "z<zt"
   ]
  },
  {
   "cell_type": "markdown",
   "id": "9e4a9309",
   "metadata": {},
   "source": [
    "Поскольку $z_н>z_t$, **отвергаем** нулевую гипотезу на уровне значимости $\\alpha=0.05$  "
   ]
  },
  {
   "cell_type": "markdown",
   "id": "09c282f9",
   "metadata": {},
   "source": [
    "#### Ответ:  \n",
    "**Отвергаем** нулевую гипотезу $H0: \\mu_0=17$ на уровне значимости $\\alpha=0.05$"
   ]
  },
  {
   "cell_type": "markdown",
   "id": "b0e76ed9",
   "metadata": {},
   "source": [
    "### Задача 3.  \n",
    "Проведите тест гипотезы.  \n",
    "Продавец утверждает, что средний вес пачки печенья составляет 200 г. Из партии извлечена выборка из 10 пачек.  \n",
    "Вес каждой пачки составляет:  \n",
    "202, 203, 199, 197, 195, 201, 200, 204, 194, 190.  \n",
    "Известно, что их веса распределены нормально.  \n",
    "Верно ли утверждение продавца, если учитывать, что доверительная вероятность равна 99%? (Провести двусторонний тест.)"
   ]
  },
  {
   "cell_type": "markdown",
   "id": "3fbbde5a",
   "metadata": {},
   "source": [
    "#### Решение: \n",
    "Из условия задачи следует что нужно проводить проверку следующих гипотез:  \n",
    "$H0: \\mu=\\mu_0=200$, где $\\mu$ и $\\mu_0$ средние выборки и генеральной совокупности и выборки, соответственно.  \n",
    "Альтернативная гипотеза:  \n",
    "$H1: \\mu\\neq\\mu_0$  \n",
    "при этом будем использовать **двусторонний** критерий c уровнем значимости $\\alpha=1-0.99=0.01$  \n",
    "Поскольку нам не известны ни среднее, ни дисперсия генеральной совокупности, то для проверки гипотезы будем использовать $t$-критерий."
   ]
  },
  {
   "cell_type": "code",
   "execution_count": 24,
   "id": "ae464ae3",
   "metadata": {},
   "outputs": [],
   "source": [
    "import numpy as np\n",
    "cookies=np.array([202, 203, 199, 197, 195, 201, 200, 204, 194, 190])"
   ]
  },
  {
   "cell_type": "markdown",
   "id": "6de913c8",
   "metadata": {},
   "source": [
    "Расчитаем наблюдаемое значение t-критерия $t_н$:"
   ]
  },
  {
   "cell_type": "code",
   "execution_count": 26,
   "id": "f7e31fdd",
   "metadata": {},
   "outputs": [
    {
     "name": "stdout",
     "output_type": "stream",
     "text": [
      "Наблюдаемое значение t-критерия: -1.0651\n"
     ]
    }
   ],
   "source": [
    "tn=(np.mean(cookies)-200)/(np.std(cookies,ddof=1)/len(cookies)**0.5)\n",
    "print(f'Наблюдаемое значение t-критерия: {tn: .4f}')"
   ]
  },
  {
   "cell_type": "markdown",
   "id": "ad13fc8a",
   "metadata": {},
   "source": [
    "Найдем табличное значение $t$-критерия $t_t$, для $\\alpha/2=0.01/2=0.005$"
   ]
  },
  {
   "cell_type": "code",
   "execution_count": 27,
   "id": "8c82a628",
   "metadata": {},
   "outputs": [
    {
     "name": "stdout",
     "output_type": "stream",
     "text": [
      "Табличное значение t-критерия:  3.2498\n"
     ]
    }
   ],
   "source": [
    "tt=stats.t.ppf(0.995,len(cookies)-1)\n",
    "print(f'Табличное значение t-критерия: {tt: .4f}')"
   ]
  },
  {
   "cell_type": "markdown",
   "id": "1af50552",
   "metadata": {},
   "source": [
    "Сравним полученные значения (поскольку у нас двусторонний критерий, то используем абсолютное значение полученного t-критерия):"
   ]
  },
  {
   "cell_type": "code",
   "execution_count": 28,
   "id": "d7e3a4e0",
   "metadata": {},
   "outputs": [
    {
     "data": {
      "text/plain": [
       "True"
      ]
     },
     "execution_count": 28,
     "metadata": {},
     "output_type": "execute_result"
    }
   ],
   "source": [
    "np.abs(tn)<tt"
   ]
  },
  {
   "cell_type": "markdown",
   "id": "120fadda",
   "metadata": {},
   "source": [
    "Поскольку $|t_н|<t_t$, **принимаем** нулевую гипотезу на уровне значимости $\\alpha=0.01$  \n",
    "  \n",
    " #### Ответ:  \n",
    " **Принимаем** нулевую гипотезу $H0: \\mu_0=200$ на уровне значимости $\\alpha=0.01$"
   ]
  },
  {
   "cell_type": "markdown",
   "id": "4177ef6c",
   "metadata": {},
   "source": [
    "### Задача 4.  \n",
    "Есть ли статистически значимые различия в росте дочерей?  \n",
    "Рост матерей 172, 177, 158, 170, 178,175, 164, 160, 169, 165  \n",
    "Рост взрослых дочерей: 173, 175, 162, 174, 175, 168, 155, 170, 160, 163"
   ]
  },
  {
   "cell_type": "markdown",
   "id": "2723cc09",
   "metadata": {},
   "source": [
    "#### Решение:  \n",
    "Из условия задачи следует что нужно проводить проверку следующих гипотез:  \n",
    "$H0: \\mu=\\mu_0$  \n",
    "Альтернативная гипотеза:  \n",
    "$H1: \\mu\\neq\\mu_0$  \n",
    "$\\alpha=0.05$ "
   ]
  },
  {
   "cell_type": "code",
   "execution_count": 11,
   "id": "4ce1d30e",
   "metadata": {},
   "outputs": [],
   "source": [
    "import numpy as np\n",
    "array1=np.array([172, 177, 158, 170, 178, 175, 164, 160, 169, 165])\n",
    "array2=np.array([173, 175, 162, 174, 175, 168, 155, 170, 160, 163])\n",
    "a=0.05"
   ]
  },
  {
   "cell_type": "code",
   "execution_count": 27,
   "id": "efad5fbe",
   "metadata": {},
   "outputs": [
    {
     "name": "stdout",
     "output_type": "stream",
     "text": [
      "Результат:\n",
      "Ttest_relResult(statistic=0.6648478531431979, pvalue=0.5228168632983574)\n"
     ]
    }
   ],
   "source": [
    "import scipy.stats as stats\n",
    "result=stats.ttest_rel(array1,array2)\n",
    "print(f'Результат:\\n{result}')"
   ]
  },
  {
   "cell_type": "markdown",
   "id": "c5df0924",
   "metadata": {},
   "source": [
    "Поскольку p-значение теста (pvalue=0.5228) больше $\\alpha=0.05$, мы не отвергаем нулевую гипотезу:  \n",
    "pvalue=0.5228 > $\\alpha=0.05$"
   ]
  },
  {
   "cell_type": "markdown",
   "id": "3c1de9f9",
   "metadata": {},
   "source": [
    "#### Ответ:  \n",
    "Нулевая гипотеза принимается на уровне значимости $\\alpha$ так как pvalue > $\\alpha$, статистически значимых различий в росте дочерей нет."
   ]
  }
 ],
 "metadata": {
  "kernelspec": {
   "display_name": "Python 3 (ipykernel)",
   "language": "python",
   "name": "python3"
  },
  "language_info": {
   "codemirror_mode": {
    "name": "ipython",
    "version": 3
   },
   "file_extension": ".py",
   "mimetype": "text/x-python",
   "name": "python",
   "nbconvert_exporter": "python",
   "pygments_lexer": "ipython3",
   "version": "3.9.13"
  }
 },
 "nbformat": 4,
 "nbformat_minor": 5
}
