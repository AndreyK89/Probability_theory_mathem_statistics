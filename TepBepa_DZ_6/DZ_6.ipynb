{
 "cells": [
  {
   "cell_type": "markdown",
   "id": "5930f80e",
   "metadata": {},
   "source": [
    "### Теория вероятностей и математическая статистика (семинары).\n",
    "#### Урок 6. Сравнение долей. Построение доверительного интервала.\n",
    "\n",
    "#### Задача 1.  \n",
    "Известно, что генеральная совокупность распределена нормально со средним квадратическим отклонением, равным 16.  \n",
    "Найти доверительный интервал для оценки математического ожидания a с надежностью 0.95,  \n",
    "если выборочная средняя M = 80, а объем выборки n = 256."
   ]
  },
  {
   "cell_type": "markdown",
   "id": "6cbbec4e",
   "metadata": {},
   "source": [
    "#### Решение:   \n",
    "$\\gamma=0,95$  \n",
    "$\\bar x=80$ среднее по выборке  \n",
    "$\\sigma=16$ среднее квадратическое отклонение  \n",
    "$n=256$ обьем выборки  \n",
    "Найдем доверительный интервал для математического ожидания\n",
    "надежностью 0,95, по формуле:  \n",
    "$\\bar x-t_\\gamma\\frac{\\sigma}{\\sqrt{n}}<\\alpha<\\bar x+t_\\gamma\\frac{\\sigma}{\\sqrt{n}},$  \n",
    "где $t_\\gamma$ определим из таблицы по условию $Ф(t_\\gamma)=\\frac{\\gamma}{2}=\\frac{0,95}{2}=0,475=>t_\\gamma\\approx1,96$  \n",
    "Получаем после подстановки известных данных:  \n",
    "$80-1,96\\frac{16}{\\sqrt{256}}<\\alpha<80+1,96\\frac{16}{\\sqrt{256}}$ "
   ]
  },
  {
   "cell_type": "code",
   "execution_count": 2,
   "id": "68d8000a",
   "metadata": {},
   "outputs": [
    {
     "name": "stdout",
     "output_type": "stream",
     "text": [
      "95%-й доверительный интервал для оценки мат. ожидания генеральной совокупности: [78.04;81.96].\n"
     ]
    }
   ],
   "source": [
    "left=80-1.96*16/256**(1/2)\n",
    "right=80+1.96*16/256**(1/2)\n",
    "print(f'95%-й доверительный интервал для оценки мат. ожидания генеральной совокупности: [{left};{right}].')"
   ]
  },
  {
   "cell_type": "markdown",
   "id": "0b6bf683",
   "metadata": {},
   "source": [
    "#### Ответ:  \n",
    "Доверительный интервал для оценки математического ожидания a с надежностью 0.95 лежит в пределах [78,04 ; 81,96]."
   ]
  },
  {
   "cell_type": "markdown",
   "id": "4b02c21b",
   "metadata": {},
   "source": [
    "#### Задача 2.  \n",
    "В результате 10 независимых измерений некоторой величины X, выполненных с\n",
    "одинаковой точностью, получены опытные данные:  \n",
    "6.9, 6.1, 6.2, 6.8, 7.5, 6.3, 6.4, 6.9, 6.7, 6.1  \n",
    "Предполагая, что результаты измерений подчинены нормальному закону распределения\n",
    "вероятностей,  \n",
    "оценить истинное значение величины X при помощи доверительного интервала, покрывающего это\n",
    "значение с доверительной вероятностью 0,95.  \n",
    "#### Решение:  \n",
    "Из условия задачи  не известно ни о мат. ожидании генеральной совокупности, ни о среднем квадратическом отклонении для генеральной совокупности, то для расчета $95\\%$-го доверительного интервала будем использовать $t$-критерий, и формулу:  \n",
    "$\\bar X\\pm t_{\\alpha/2}\\cdot\\frac{\\sigma_{несмещ}}{\\sqrt{n}}$, где  \n",
    "$\\sigma_{несмещ}$-несмещённое среднее квадратическое отклонение выборки, $n$-размер выборки  \n",
    "Используем библиотеку numpy:"
   ]
  },
  {
   "cell_type": "code",
   "execution_count": 7,
   "id": "05d76894",
   "metadata": {},
   "outputs": [
    {
     "name": "stdout",
     "output_type": "stream",
     "text": [
      "Среднее выборочное:  6.59,\n",
      "Размер выборки n=10,\n",
      "Среднее квадратическое отклонение по выборке(несмещенное):  0.45.\n"
     ]
    }
   ],
   "source": [
    "import numpy as np\n",
    "\n",
    "arr=np.array([6.9, 6.1, 6.2, 6.8, 7.5, 6.3, 6.4, 6.9, 6.7, 6.1])\n",
    "print(f'Среднее выборочное: {np.mean(arr): .2f},\\n'\n",
    "      f'Размер выборки n={len(arr)},\\n'\n",
    "      f'Среднее квадратическое отклонение по выборке(несмещенное): {np.std(arr, ddof=1): .2f}.'\n",
    "     )"
   ]
  },
  {
   "cell_type": "markdown",
   "id": "5b213cc1",
   "metadata": {},
   "source": [
    "Для вычисления $t$-критерия воспользуемся библиотекой scipy:"
   ]
  },
  {
   "cell_type": "code",
   "execution_count": 8,
   "id": "a5d55621",
   "metadata": {},
   "outputs": [
    {
     "name": "stdout",
     "output_type": "stream",
     "text": [
      "Табличное значение t-критерия для 95%-го доверительного интервала данной выборки:  2.262\n"
     ]
    }
   ],
   "source": [
    "import scipy.stats as stats\n",
    "\n",
    "def t_from_table(confidens, len_array):\n",
    "    alpha=(1-confidens)\n",
    "    return stats.t.ppf(1-alpha/2, len_array-1)\n",
    "print(f'Табличное значение t-критерия для 95%-го доверительного интервала данной выборки: {t_from_table(0.95, len(arr)): .3f}')"
   ]
  },
  {
   "cell_type": "markdown",
   "id": "cc6829a4",
   "metadata": {},
   "source": [
    "Функция для расчета доверительного интервала:"
   ]
  },
  {
   "cell_type": "code",
   "execution_count": 13,
   "id": "682977cb",
   "metadata": {},
   "outputs": [
    {
     "name": "stdout",
     "output_type": "stream",
     "text": [
      "95%-й доверительный интервал для истинного значения Х:(6.268, 6.912).\n"
     ]
    }
   ],
   "source": [
    "def confidens_int(arr, confidens):\n",
    "    return round(np.mean(arr)-t_from_table(confidens,len(arr))*np.std(arr, ddof=1)/len(arr)**0.5,3), \\\n",
    "           round(np.mean(arr)+t_from_table(confidens,len(arr))*np.std(arr, ddof=1)/len(arr)**0.5,3)\n",
    "\n",
    "print(f'95%-й доверительный интервал для истинного значения Х:{confidens_int(arr, 0.95)}.')"
   ]
  },
  {
   "cell_type": "markdown",
   "id": "1529a85a",
   "metadata": {},
   "source": [
    "#### Ответ:  \n",
    "95%-й доверительный интервал для истинного значения Х : (6.268, 6.912)."
   ]
  },
  {
   "cell_type": "markdown",
   "id": "2eafc247",
   "metadata": {},
   "source": [
    "#### Задача 3.  \n",
    "Рост дочерей 175, 167, 154, 174, 178, 148, 160, 167, 169, 170  \n",
    "Рост матерей 178, 165, 165, 173, 168, 155, 160, 164, 178, 175  \n",
    "Используя эти данные построить 95% доверительный интервал для разности среднего роста родителей и детей.\n",
    "#### Решение:  \n",
    "Найдем разность среднего $Sdelta$, воспользуемся библиотекой numpy:  "
   ]
  },
  {
   "cell_type": "code",
   "execution_count": 3,
   "id": "c2a21410",
   "metadata": {},
   "outputs": [
    {
     "name": "stdout",
     "output_type": "stream",
     "text": [
      "Разность средннего Sdelta =  1.9000\n"
     ]
    }
   ],
   "source": [
    "import math\n",
    "import numpy as np\n",
    "import scipy.stats as stats\n",
    "\n",
    "array1 = [175, 167, 154, 174, 178, 148, 160, 167, 169, 170]\n",
    "array2 = [178, 165, 165, 173, 168, 155, 160, 164, 178, 175]\n",
    "n = len(array1)\n",
    "a = 0.05\n",
    "m1 = np.mean(array1)\n",
    "m2 = np.mean(array2)\n",
    "delta = abs(m1 - m2)\n",
    "print(f'Разность средннего Sdelta = {delta: .4f}')"
   ]
  },
  {
   "cell_type": "markdown",
   "id": "eda3a15c",
   "metadata": {},
   "source": [
    "Найдем табличное значение $t$-критерия, для $\\alpha=0.05$"
   ]
  },
  {
   "cell_type": "code",
   "execution_count": 7,
   "id": "5364e872",
   "metadata": {},
   "outputs": [
    {
     "name": "stdout",
     "output_type": "stream",
     "text": [
      "Табличное значение t-критерия =  2.1009\n"
     ]
    }
   ],
   "source": [
    "t = stats.t.ppf(1 - (a / 2), 2 * (n - 1))\n",
    "print(f'Табличное значение t-критерия = {t: .4f}')"
   ]
  },
  {
   "cell_type": "markdown",
   "id": "fc514644",
   "metadata": {},
   "source": [
    "Найдем дисперсию двух групп:"
   ]
  },
  {
   "cell_type": "code",
   "execution_count": 8,
   "id": "29fcaf5a",
   "metadata": {},
   "outputs": [
    {
     "name": "stdout",
     "output_type": "stream",
     "text": [
      "Дисперсия двух групп =  75.5833\n"
     ]
    }
   ],
   "source": [
    "d = (np.var(array1, ddof=1) + np.var(array2, ddof=1)) / 2\n",
    "print(f'Дисперсия двух групп = {d: .4f}')"
   ]
  },
  {
   "cell_type": "markdown",
   "id": "ec160ef4",
   "metadata": {},
   "source": [
    "Находим $Sdelta$ и доверительный интервал доверительной вероятностью 0,95:"
   ]
  },
  {
   "cell_type": "code",
   "execution_count": 28,
   "id": "0a337cb4",
   "metadata": {},
   "outputs": [
    {
     "name": "stdout",
     "output_type": "stream",
     "text": [
      "Разность средннего =  1.9000\n",
      "Табличное значение t-критерия =  2.1009\n",
      "Дисперсия двух групп =  75.5833\n",
      "Sdelta =  3.8880\n",
      "Доверительный интервал для разности среднего роста родителей и детей с доверительной вероятностью 0,95 = [-6.2684; 10.0684]\n"
     ]
    }
   ],
   "source": [
    "s = math.sqrt((d / n) + (d / n))\n",
    "print(f'Sdelta = {s: .4f}')\n",
    "result1 = delta - t * s\n",
    "result2 = delta + t * s\n",
    "print(\n",
    "    f'Доверительный интервал для разности среднего роста родителей и детей с доверительной вероятностью 0,95 = [{result1: .4f};{result2: .4f}]')\n"
   ]
  },
  {
   "cell_type": "markdown",
   "id": "80931ab9",
   "metadata": {},
   "source": [
    "#### Ответ:  \n",
    "Доверительный интервал для разности среднего роста родителей и детей с доверительной вероятностью 0,95 = [-6.2684; 10.0684]"
   ]
  }
 ],
 "metadata": {
  "kernelspec": {
   "display_name": "Python 3 (ipykernel)",
   "language": "python",
   "name": "python3"
  },
  "language_info": {
   "codemirror_mode": {
    "name": "ipython",
    "version": 3
   },
   "file_extension": ".py",
   "mimetype": "text/x-python",
   "name": "python",
   "nbconvert_exporter": "python",
   "pygments_lexer": "ipython3",
   "version": "3.9.13"
  }
 },
 "nbformat": 4,
 "nbformat_minor": 5
}
