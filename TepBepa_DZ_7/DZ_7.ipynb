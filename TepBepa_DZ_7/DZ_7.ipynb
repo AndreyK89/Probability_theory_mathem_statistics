{
 "cells": [
  {
   "cell_type": "markdown",
   "id": "eab63ebb",
   "metadata": {},
   "source": [
    "### Теория вероятностей и математическая статистика (семинары).  \n",
    "### Урок 7. Непараметрические тесты.  \n",
    "1-4 задачи решать с помощью функций, 5ю вручную.\n",
    "#### Выберете тест и проверьте, есть ли различия между выборками:\n",
    "#### Задача 1.  \n",
    "Даны две независимые выборки. Не соблюдается условие нормальности.  \n",
    "x1 380,420, 290  \n",
    "y1 140,360,200,900  \n",
    "Сделайте вывод по результатам, полученным с помощью функции.  \n",
    "#### Решение:  \n"
   ]
  },
  {
   "cell_type": "code",
   "execution_count": 20,
   "id": "b49d25ac",
   "metadata": {},
   "outputs": [
    {
     "name": "stdout",
     "output_type": "stream",
     "text": [
      "MannwhitneyuResult(statistic=8.0, pvalue=0.6285714285714286)\n"
     ]
    }
   ],
   "source": [
    "import math\n",
    "import numpy as np\n",
    "import scipy.stats as stats\n",
    "\n",
    "x1 = [380, 420, 290]\n",
    "y1 = [140, 360, 200, 900]\n",
    "a=0.05\n",
    "result = stats.mannwhitneyu(x1, y1)\n",
    "print(f'{result}')"
   ]
  },
  {
   "cell_type": "markdown",
   "id": "69f6d7da",
   "metadata": {},
   "source": [
    "#### Ответ:   \n",
    "Pvalue=0,6286 > a=0.05, нулевая гипотеза не отвергается на уровне значимости a=0.05."
   ]
  },
  {
   "cell_type": "markdown",
   "id": "7e640262",
   "metadata": {},
   "source": [
    "#### Задача 2.  \n",
    "Исследовалось влияние препарата на уровень давления пациентов.  \n",
    "Сначала измерялось давление до приема препарата, потом через 10 минут и через 30 минут.  \n",
    "Есть ли статистически значимые различия?  \n",
    "1е измерение до приема препарата: 150, 160, 165, 145, 155  \n",
    "2е измерение через 10 минут: 140, 155, 150, 130, 135  \n",
    "3е измерение через 30 минут: 130, 130, 120, 130, 125  \n",
    "#### Решение:"
   ]
  },
  {
   "cell_type": "code",
   "execution_count": 21,
   "id": "3b48b1ef",
   "metadata": {},
   "outputs": [
    {
     "name": "stdout",
     "output_type": "stream",
     "text": [
      "FriedmanchisquareResult(statistic=9.578947368421062, pvalue=0.00831683351100441)\n"
     ]
    }
   ],
   "source": [
    "import math\n",
    "import numpy as np\n",
    "import scipy.stats as stats\n",
    "\n",
    "before = [150, 160, 165, 145, 155]\n",
    "after10 = [140, 155, 150, 130, 135]\n",
    "after30 = [130, 130, 120, 130, 125]\n",
    "a = 0.05\n",
    "\n",
    "result = stats.friedmanchisquare(before, after10, after30)\n",
    "\n",
    "print(f'{result}')"
   ]
  },
  {
   "cell_type": "markdown",
   "id": "c004960c",
   "metadata": {},
   "source": [
    "#### Ответ:  \n",
    "Pvalue=0.0083 < a=0.05, статистически значимые различия обнаружены на уровне значимости a=0.05."
   ]
  },
  {
   "cell_type": "markdown",
   "id": "40bdb322",
   "metadata": {},
   "source": [
    "#### Задача 3.  \n",
    "Сравните 1 и 2 е измерения, предполагая, что 3го измерения через 30 минут не было.  \n",
    "1е измерение до приема препарата: 150, 160, 165, 145, 155  \n",
    "2е измерение через 10 минут: 140, 155, 150, 130, 135  \n",
    "#### Решение:"
   ]
  },
  {
   "cell_type": "code",
   "execution_count": 22,
   "id": "701413fa",
   "metadata": {},
   "outputs": [
    {
     "name": "stdout",
     "output_type": "stream",
     "text": [
      "WilcoxonResult(statistic=0.0, pvalue=0.0625)\n"
     ]
    }
   ],
   "source": [
    "import math\n",
    "import numpy as np\n",
    "import scipy.stats as stats\n",
    "\n",
    "before = [150, 160, 165, 145, 155]\n",
    "after10 = [140, 155, 150, 130, 135]\n",
    "a = 0.05\n",
    "\n",
    "result = stats.wilcoxon(before, after10)\n",
    "\n",
    "print(f'{result}')"
   ]
  },
  {
   "cell_type": "markdown",
   "id": "2bd7888f",
   "metadata": {},
   "source": [
    "#### Ответ:\n",
    "Pvalue=0.0625 > a=0.05, статистически значимых различий не обнаружено на уровне значимости a=0.05."
   ]
  },
  {
   "cell_type": "markdown",
   "id": "f46f8076",
   "metadata": {},
   "source": [
    "#### Задача 4.  \n",
    "Даны 3 группы учеников плавания.  \n",
    "Время на дистанцию 50 м составляет:  \n",
    "1 группа: 56, 60, 62, 55, 71, 67, 59, 58, 64, 67  \n",
    "2 группа: 57, 58, 69, 48, 72, 70, 68, 71, 50, 53  \n",
    "3 группа: 57, 67, 49, 48, 47, 55, 66, 51, 54  \n",
    "#### Решение:"
   ]
  },
  {
   "cell_type": "code",
   "execution_count": 23,
   "id": "37c59b76",
   "metadata": {},
   "outputs": [
    {
     "name": "stdout",
     "output_type": "stream",
     "text": [
      "KruskalResult(statistic=5.465564058257224, pvalue=0.0650380998590494)\n"
     ]
    }
   ],
   "source": [
    "import math\n",
    "import numpy as np\n",
    "import scipy.stats as stats\n",
    "\n",
    "group1 = [56, 60, 62, 55, 71, 67, 59, 58, 64, 67]\n",
    "group2 = [57, 58, 69, 48, 72, 70, 68, 71, 50, 53]\n",
    "group3 = [57, 67, 49, 48, 47, 55, 66, 51, 54]\n",
    "a = 0.05\n",
    "\n",
    "result = stats.kruskal(group1, group2, group3)\n",
    "\n",
    "print(f'{result}')"
   ]
  },
  {
   "cell_type": "markdown",
   "id": "6c29cad1",
   "metadata": {},
   "source": [
    "#### Ответ:  \n",
    "Pvalue=0.0650 > a=0.05, статистически значимых различий не обнаружено на уровне значимости a=0.05."
   ]
  },
  {
   "cell_type": "markdown",
   "id": "03e6df8a",
   "metadata": {},
   "source": [
    "#### Задача 5.  \n",
    "Заявляется, что партия изготавливается со средним арифметическим 2,5 см.  \n",
    "Проверить данную гипотезу, если известно, что размеры изделий подчинены нормальному закону распределения.  \n",
    "Объем выборки 10, уровень статистической значимости 5%  \n",
    "2.51, 2.35, 2.74, 2.56, 2.40, 2.36, 2.65, 2.7, 2.67, 2.34\n",
    "#### Решение:"
   ]
  },
  {
   "cell_type": "code",
   "execution_count": 25,
   "id": "0d386a32",
   "metadata": {},
   "outputs": [
    {
     "name": "stdout",
     "output_type": "stream",
     "text": [
      "Средняя по выборке = 2.5279999999999996\n",
      "Среднее квадратичное отклонение = 0.1572542173961923\n",
      "Наблюдаемое значение t-критерия = 0.5630613661802959\n",
      "Табличное значение t-критерия = 2.2621571627409915\n"
     ]
    }
   ],
   "source": [
    "import math\n",
    "import numpy as np\n",
    "import scipy.stats as stats\n",
    "\n",
    "m = 2.5\n",
    "n = 10\n",
    "a = 0.05\n",
    "array = [2.51, 2.35, 2.74, 2.56, 2.40, 2.36, 2.65, 2.7, 2.67, 2.34]\n",
    "mean = np.mean(array)\n",
    "print(f'Средняя по выборке = {mean}')\n",
    "sko=np.std(array, ddof=1)\n",
    "print(f'Среднее квадратичное отклонение = {sko}')\n",
    "t1 = (mean-m)/(sko/math.sqrt(n))\n",
    "print(f'Наблюдаемое значение t-критерия = {t1}')\n",
    "t2 = stats.t.ppf(1 - (a / 2), n - 1)\n",
    "print(f'Табличное значение t-критерия = {t2}')"
   ]
  },
  {
   "cell_type": "markdown",
   "id": "08d24ec9",
   "metadata": {},
   "source": [
    "#### Ответ:  \n",
    "Нулевая гипотеза не отвергается на уровне значимости $\\alpha=0.05$, так как 0.5630<2.2621."
   ]
  }
 ],
 "metadata": {
  "kernelspec": {
   "display_name": "Python 3 (ipykernel)",
   "language": "python",
   "name": "python3"
  },
  "language_info": {
   "codemirror_mode": {
    "name": "ipython",
    "version": 3
   },
   "file_extension": ".py",
   "mimetype": "text/x-python",
   "name": "python",
   "nbconvert_exporter": "python",
   "pygments_lexer": "ipython3",
   "version": "3.9.13"
  }
 },
 "nbformat": 4,
 "nbformat_minor": 5
}
