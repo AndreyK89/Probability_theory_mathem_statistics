{
 "cells": [
  {
   "cell_type": "markdown",
   "id": "214eff9b",
   "metadata": {},
   "source": [
    "### Задача 1.  \n",
    "Случайная непрерывная величина A имеет равномерное распределение на промежутке (200, 800].\n",
    "Найдите ее среднее значение и дисперсию.  \n",
    "$Решение:$  \n",
    "Для определения мат. ожидания и дисперсии случайной непрерывной величины , на отрезке [a,b], формулы:  \n",
    "${Матем. ожидание} : M(A)= \\frac{a+b}{2}\\\\{Дисперсия: }D(A)= \\frac{(b-a)^2}{12}$"
   ]
  },
  {
   "cell_type": "code",
   "execution_count": 17,
   "id": "3558aa8d",
   "metadata": {},
   "outputs": [
    {
     "name": "stdout",
     "output_type": "stream",
     "text": [
      "На промежутке (200;800]\n",
      "Среднее значение: М(А) =  500.00\n",
      "Дисперсия: D(A) =  30000.00\n"
     ]
    }
   ],
   "source": [
    "def math_exp_and_variance(a,b):\n",
    "    return f'На промежутке ({a};{b}]\\nСреднее значение: М(А) = {(a+b)/2: .2f}\\nДисперсия: D(A) = {((b-a)**2)/12: .2f}'\n",
    "print(math_exp_and_variance(200,800))"
   ]
  },
  {
   "cell_type": "markdown",
   "id": "a2d5cd27",
   "metadata": {},
   "source": [
    "$ Ответ :$   \n",
    "$ M(A) = 500.00$  \n",
    "$ D(A) = 30000.00$\n"
   ]
  },
  {
   "cell_type": "markdown",
   "id": "a596e9ed",
   "metadata": {},
   "source": [
    "### Задача 2.  \n",
    "О случайной непрерывной равномерно распределенной величине B известно, что ее дисперсия равна 0.2.\n",
    "Можно ли найти правую границу величины B и ее среднее значение зная, что левая граница равна 0.5?\n",
    "Если да, найдите ее.  \n",
    "$Решение:$  \n",
    "Величину В находящуюся на отрезке (a,b), дисперсия случайной непрерывной равномерно распределенной находим по формуле:  \n",
    "${Дисперсия}: D(A)= \\frac{(b-a)^2}{12}$ Значения по условию: $Дисперсия$ $D(B-a)=0.2$ и левая граница отрезка $a=0.5$  \n",
    " Правая граница $b$ величины $B$ по формуле: $ D(B-b)\\frac{(b-0.5)^2}{12}=0.2 b-0.5=\\sqrt{2.4} b=0.5+\\sqrt{2.4}$,  \n",
    " Среднее значение по формуле: $ M(B)=\\frac{a+b}{2}$"
   ]
  },
  {
   "cell_type": "code",
   "execution_count": 18,
   "id": "d1014ad2",
   "metadata": {},
   "outputs": [
    {
     "name": "stdout",
     "output_type": "stream",
     "text": [
      "Правая граница распределения величины В-b =  2.049\n",
      "Среднее значение В на промежутке (0.5;  2.049) M(B) =  1.275\n"
     ]
    }
   ],
   "source": [
    "b=0.5+2.4**(1/2)\n",
    "print(f'Правая граница распределения величины В-b = {b: .3f}\\n'\n",
    "      f'Среднее значение В на промежутке (0.5; {b: .3f}) M(B) = {(b+0.5)/2: .3f}')"
   ]
  },
  {
   "cell_type": "markdown",
   "id": "57fc179b",
   "metadata": {},
   "source": [
    "$Ответ:$\n",
    "Правая граница распределения: $b=2.049$\n",
    "Среднее значение: $M(B)=1.275$"
   ]
  },
  {
   "cell_type": "markdown",
   "id": "b705f2be",
   "metadata": {},
   "source": [
    "### Задача 3.  \n",
    "Непрерывная случайная величина X распределена нормально и задана плотностью распределения: $f(x)=\\frac{1}{4\\cdot\\sqrt{2\\pi}}\\cdot e^{-\\frac{(x+2)^2}{32}}$    \n",
    "$Найдите:$  \n",
    "а). M(X)  \n",
    "б). D(X)  \n",
    "в). $\\displaystyle\\sigma$(X) (среднее квадратичное отклонение)  \n",
    "Формула плотности нормального распределения:  \n",
    "$f(x)=\\frac{1}{\\sigma\\sqrt{2\\pi}}\\cdot e^{-\\frac{(x-a)^2}{2\\sigma^2}}$  \n",
    "$M(X)=a=-2\\sigma = 4D(X)=\\sigma^2=16$  \n",
    "      \n",
    "$Ответ:$  \n",
    "$а). M(X)=-2;$  \n",
    "$б). D(X)=16;$  \n",
    "$в). \\sigma=4$"
   ]
  },
  {
   "cell_type": "markdown",
   "id": "82dd2d26",
   "metadata": {},
   "source": [
    "### Задача 4.\n",
    "Рост взрослого населения города X имеет нормальное распределение, причем, средний рост равен 174 см, а среднее квадратическое отклонение равно 8 см. посчитайте, какова вероятность того, что случайным образом выбранный взрослый человек имеет рост:\n",
    "1. больше 182 см?\n",
    "2. больше 190 см?\n",
    "3. от 166 см до 190 см?\n",
    "4. от 166 см до 182 см?\n",
    "5. от 158 см до 190 см?\n",
    "6. не выше 150 см или не ниже 190 см?\n",
    "7. не выше 150 см или не ниже 198 см?\n",
    "8. ниже 166 см?\n",
    "\n",
    "Задачу можно решить двумя способами: без использования сторонних библиотек (numpy, scipy, pandas и пр.), а затем проверить себя с помощью встроенных функций.  \n",
    "$Решение:$\n",
    "Для значений Z нормального распределения, функция:"
   ]
  },
  {
   "cell_type": "code",
   "execution_count": 1,
   "id": "ae7117c4",
   "metadata": {},
   "outputs": [],
   "source": [
    "def z_value(height):\n",
    "    return (height-174)/8"
   ]
  },
  {
   "cell_type": "markdown",
   "id": "704fe871",
   "metadata": {},
   "source": [
    "Расчет значений вероятности методом cdf, стандартный модуль statistics, объект NormalDist."
   ]
  },
  {
   "cell_type": "code",
   "execution_count": 3,
   "id": "114d6624",
   "metadata": {},
   "outputs": [],
   "source": [
    "from statistics import NormalDist"
   ]
  },
  {
   "cell_type": "markdown",
   "id": "3ccc5958",
   "metadata": {},
   "source": [
    "#### 1) Определим значениe Z=?:"
   ]
  },
  {
   "cell_type": "code",
   "execution_count": 6,
   "id": "fddaafb0",
   "metadata": {},
   "outputs": [
    {
     "name": "stdout",
     "output_type": "stream",
     "text": [
      "1.0\n"
     ]
    }
   ],
   "source": [
    "print(z_value(182))"
   ]
  },
  {
   "cell_type": "markdown",
   "id": "ecd8de5b",
   "metadata": {},
   "source": [
    "Случайная величина X будет меньше или равна x, т.е в данном случае $P(X\\le182)$ "
   ]
  },
  {
   "cell_type": "code",
   "execution_count": 7,
   "id": "2a04a621",
   "metadata": {},
   "outputs": [
    {
     "data": {
      "text/plain": [
       "0.8413447460685428"
      ]
     },
     "execution_count": 7,
     "metadata": {},
     "output_type": "execute_result"
    }
   ],
   "source": [
    "NormalDist().cdf(z_value(182))"
   ]
  },
  {
   "cell_type": "markdown",
   "id": "eb5b4079",
   "metadata": {},
   "source": [
    "По условию нам нужна вероятность $P(X\\ge182)$, поэтому вычтем полученное значение из $1$:"
   ]
  },
  {
   "cell_type": "code",
   "execution_count": 32,
   "id": "86e5ea46",
   "metadata": {},
   "outputs": [
    {
     "data": {
      "text/plain": [
       "0.15865525393145719"
      ]
     },
     "execution_count": 32,
     "metadata": {},
     "output_type": "execute_result"
    }
   ],
   "source": [
    "P=1-NormalDist().cdf(z_value(182))\n",
    "P"
   ]
  },
  {
   "cell_type": "markdown",
   "id": "cd30683e",
   "metadata": {},
   "source": [
    "$P(X\\ge182)=0.1587$"
   ]
  },
  {
   "cell_type": "markdown",
   "id": "4087e497",
   "metadata": {},
   "source": [
    "#### 2) Определим значениe Z=?:"
   ]
  },
  {
   "cell_type": "code",
   "execution_count": 33,
   "id": "cc3dc34d",
   "metadata": {},
   "outputs": [
    {
     "data": {
      "text/plain": [
       "2.0"
      ]
     },
     "execution_count": 33,
     "metadata": {},
     "output_type": "execute_result"
    }
   ],
   "source": [
    "z=z_value(190)\n",
    "z"
   ]
  },
  {
   "cell_type": "markdown",
   "id": "446c55a3",
   "metadata": {},
   "source": [
    "Определим $P(X\\ge190)$"
   ]
  },
  {
   "cell_type": "code",
   "execution_count": 34,
   "id": "4041d45b",
   "metadata": {},
   "outputs": [
    {
     "data": {
      "text/plain": [
       "0.022750131948179098"
      ]
     },
     "execution_count": 34,
     "metadata": {},
     "output_type": "execute_result"
    }
   ],
   "source": [
    "P=1-NormalDist().cdf(z)\n",
    "P"
   ]
  },
  {
   "cell_type": "markdown",
   "id": "75d83113",
   "metadata": {},
   "source": [
    "$P(X\\ge190)$=0.02275"
   ]
  },
  {
   "cell_type": "markdown",
   "id": "ca8e6115",
   "metadata": {},
   "source": [
    "#### 3) Определим $Z_1$ и $Z_2$"
   ]
  },
  {
   "cell_type": "code",
   "execution_count": 35,
   "id": "1a14a618",
   "metadata": {},
   "outputs": [
    {
     "data": {
      "text/plain": [
       "-1.0"
      ]
     },
     "execution_count": 35,
     "metadata": {},
     "output_type": "execute_result"
    }
   ],
   "source": [
    "z1=z_value(166)\n",
    "z1"
   ]
  },
  {
   "cell_type": "code",
   "execution_count": 36,
   "id": "7cc1dc3f",
   "metadata": {},
   "outputs": [
    {
     "data": {
      "text/plain": [
       "2.0"
      ]
     },
     "execution_count": 36,
     "metadata": {},
     "output_type": "execute_result"
    }
   ],
   "source": [
    "z2=z_value(190)\n",
    "z2"
   ]
  },
  {
   "cell_type": "markdown",
   "id": "d1c6c329",
   "metadata": {},
   "source": [
    "$P(166\\le X\\le 190)=0.8186$"
   ]
  },
  {
   "cell_type": "markdown",
   "id": "2617ca68",
   "metadata": {},
   "source": [
    "#### 4) Определим $Z_1$ и $Z_2$"
   ]
  },
  {
   "cell_type": "code",
   "execution_count": 37,
   "id": "52b261b1",
   "metadata": {},
   "outputs": [
    {
     "data": {
      "text/plain": [
       "-1.0"
      ]
     },
     "execution_count": 37,
     "metadata": {},
     "output_type": "execute_result"
    }
   ],
   "source": [
    "z1=z_value(166)\n",
    "z1"
   ]
  },
  {
   "cell_type": "code",
   "execution_count": 38,
   "id": "bd241115",
   "metadata": {},
   "outputs": [
    {
     "data": {
      "text/plain": [
       "1.0"
      ]
     },
     "execution_count": 38,
     "metadata": {},
     "output_type": "execute_result"
    }
   ],
   "source": [
    "z2=z_value(182)\n",
    "z2"
   ]
  },
  {
   "cell_type": "markdown",
   "id": "471cae14",
   "metadata": {},
   "source": [
    "$P(166\\le X\\le 182)$"
   ]
  },
  {
   "cell_type": "code",
   "execution_count": 39,
   "id": "c3b7be0c",
   "metadata": {},
   "outputs": [
    {
     "data": {
      "text/plain": [
       "0.6826894921370856"
      ]
     },
     "execution_count": 39,
     "metadata": {},
     "output_type": "execute_result"
    }
   ],
   "source": [
    "P=NormalDist().cdf(z2)-NormalDist().cdf(z1)\n",
    "P"
   ]
  },
  {
   "cell_type": "markdown",
   "id": "b9de3939",
   "metadata": {},
   "source": [
    "$P(166\\le X\\le 182)=0.6827$"
   ]
  },
  {
   "cell_type": "markdown",
   "id": "04b8b20b",
   "metadata": {},
   "source": [
    "#### 5) Определим $Z_1$ и $Z_2$"
   ]
  },
  {
   "cell_type": "code",
   "execution_count": 40,
   "id": "39c58c13",
   "metadata": {},
   "outputs": [
    {
     "data": {
      "text/plain": [
       "-2.0"
      ]
     },
     "execution_count": 40,
     "metadata": {},
     "output_type": "execute_result"
    }
   ],
   "source": [
    "z1=z_value(158)\n",
    "z1"
   ]
  },
  {
   "cell_type": "code",
   "execution_count": 41,
   "id": "04833512",
   "metadata": {},
   "outputs": [
    {
     "data": {
      "text/plain": [
       "2.0"
      ]
     },
     "execution_count": 41,
     "metadata": {},
     "output_type": "execute_result"
    }
   ],
   "source": [
    "z2=z_value(190)\n",
    "z2"
   ]
  },
  {
   "cell_type": "markdown",
   "id": "22876325",
   "metadata": {},
   "source": [
    "Определим $P(158\\le X\\le 190)$"
   ]
  },
  {
   "cell_type": "code",
   "execution_count": 42,
   "id": "78015ef1",
   "metadata": {},
   "outputs": [
    {
     "data": {
      "text/plain": [
       "0.9544997361036418"
      ]
     },
     "execution_count": 42,
     "metadata": {},
     "output_type": "execute_result"
    }
   ],
   "source": [
    "P=NormalDist().cdf(z2)-NormalDist().cdf(z1)\n",
    "P"
   ]
  },
  {
   "cell_type": "markdown",
   "id": "7c30f28c",
   "metadata": {},
   "source": [
    "$P(158\\le X\\le 190)=0.9545$"
   ]
  },
  {
   "cell_type": "markdown",
   "id": "52679153",
   "metadata": {},
   "source": [
    "#### 6) Определим $Z_1$ и $Z_2$\n"
   ]
  },
  {
   "cell_type": "code",
   "execution_count": 45,
   "id": "320422b5",
   "metadata": {},
   "outputs": [
    {
     "data": {
      "text/plain": [
       "-3.0"
      ]
     },
     "execution_count": 45,
     "metadata": {},
     "output_type": "execute_result"
    }
   ],
   "source": [
    "z1=z_value(150)\n",
    "z1"
   ]
  },
  {
   "cell_type": "code",
   "execution_count": 46,
   "id": "afc80352",
   "metadata": {},
   "outputs": [
    {
     "data": {
      "text/plain": [
       "2.0"
      ]
     },
     "execution_count": 46,
     "metadata": {},
     "output_type": "execute_result"
    }
   ],
   "source": [
    "z2=z_value(190)\n",
    "z2"
   ]
  },
  {
   "cell_type": "markdown",
   "id": "6b0cf838",
   "metadata": {},
   "source": [
    "Определим $P(X\\le150\\cup X\\ge 190)$"
   ]
  },
  {
   "cell_type": "code",
   "execution_count": 47,
   "id": "59a8ee14",
   "metadata": {},
   "outputs": [
    {
     "data": {
      "text/plain": [
       "0.0241000299798092"
      ]
     },
     "execution_count": 47,
     "metadata": {},
     "output_type": "execute_result"
    }
   ],
   "source": [
    "P=NormalDist().cdf(z1)+(1-NormalDist().cdf(z2))\n",
    "P"
   ]
  },
  {
   "cell_type": "markdown",
   "id": "8727815a",
   "metadata": {},
   "source": [
    "$P(X\\le150\\cup X\\ge 190)=0.0241$"
   ]
  },
  {
   "cell_type": "markdown",
   "id": "9516c856",
   "metadata": {},
   "source": [
    "#### 7) Определим $Z_1$ и $Z_2$"
   ]
  },
  {
   "cell_type": "code",
   "execution_count": 48,
   "id": "2b9c327f",
   "metadata": {},
   "outputs": [
    {
     "data": {
      "text/plain": [
       "-3.0"
      ]
     },
     "execution_count": 48,
     "metadata": {},
     "output_type": "execute_result"
    }
   ],
   "source": [
    "z1=z_value(150)\n",
    "z1"
   ]
  },
  {
   "cell_type": "code",
   "execution_count": 49,
   "id": "ae73b694",
   "metadata": {},
   "outputs": [
    {
     "data": {
      "text/plain": [
       "3.0"
      ]
     },
     "execution_count": 49,
     "metadata": {},
     "output_type": "execute_result"
    }
   ],
   "source": [
    "z2=z_value(198)\n",
    "z2"
   ]
  },
  {
   "cell_type": "markdown",
   "id": "5ad080b9",
   "metadata": {},
   "source": [
    "Определим $P(X\\le150\\cup X\\ge 198)$"
   ]
  },
  {
   "cell_type": "code",
   "execution_count": 50,
   "id": "4711a05e",
   "metadata": {},
   "outputs": [
    {
     "data": {
      "text/plain": [
       "0.002699796063260207"
      ]
     },
     "execution_count": 50,
     "metadata": {},
     "output_type": "execute_result"
    }
   ],
   "source": [
    "P=NormalDist().cdf(z1)+(1-NormalDist().cdf(z2))\n",
    "P"
   ]
  },
  {
   "cell_type": "markdown",
   "id": "88685cd2",
   "metadata": {},
   "source": [
    "$P(X\\le150\\cup X\\ge 198)=0.0027$"
   ]
  },
  {
   "cell_type": "markdown",
   "id": "287e5b0e",
   "metadata": {},
   "source": [
    "#### 8) Определим значениe Z=?:"
   ]
  },
  {
   "cell_type": "code",
   "execution_count": 52,
   "id": "58f7c390",
   "metadata": {},
   "outputs": [
    {
     "data": {
      "text/plain": [
       "-1.0"
      ]
     },
     "execution_count": 52,
     "metadata": {},
     "output_type": "execute_result"
    }
   ],
   "source": [
    "z=z_value(166)\n",
    "z"
   ]
  },
  {
   "cell_type": "markdown",
   "id": "1e2d31af",
   "metadata": {},
   "source": [
    "Определим $P(X\\le166)$"
   ]
  },
  {
   "cell_type": "code",
   "execution_count": 53,
   "id": "c791999e",
   "metadata": {},
   "outputs": [
    {
     "data": {
      "text/plain": [
       "0.15865525393145713"
      ]
     },
     "execution_count": 53,
     "metadata": {},
     "output_type": "execute_result"
    }
   ],
   "source": [
    "P=NormalDist().cdf(z)\n",
    "P"
   ]
  },
  {
   "cell_type": "markdown",
   "id": "1e8b247b",
   "metadata": {},
   "source": [
    "$P(X\\le166)=0.1587$"
   ]
  },
  {
   "cell_type": "markdown",
   "id": "f917ff4b",
   "metadata": {},
   "source": [
    "#### Ответ:  \n",
    "$а) P(X\\ge182)=0.1587;$  \n",
    "$б) P(X\\ge190)=0.02275;$  \n",
    "$в) P(166\\le X\\le 190)=0.8186;$  \n",
    "$г) P(166\\le X\\le 182)=0.6827;$  \n",
    "$д) P(158\\le X\\le 190)=0.9545;$  \n",
    "$е) P(X\\le150\\cup X\\ge 190)=0.0241;$  \n",
    "$ё) P(X\\le150\\cup X\\ge 198)=0.0027;$  \n",
    "$ж) P(X\\le166)=0.1587.$"
   ]
  },
  {
   "cell_type": "markdown",
   "id": "9f62ced0",
   "metadata": {},
   "source": [
    "### Задача 5.\n",
    "На сколько сигм (средних квадратичных отклонений) отклоняется рост человека, равный 190 см, от математического ожидания роста в популяции, в которой M(X) = 178 см и D(X) = 25 кв.см?\n",
    "\n",
    "Воспользуемся формулой расчета $Z$-оценки:  \n",
    "$\\displaystyle Z=\\frac{X-\\bar x}{\\sigma}=\\frac{190-178}{\\sqrt{25}}=\\frac{12}{5}$"
   ]
  },
  {
   "cell_type": "code",
   "execution_count": 54,
   "id": "69ff7941",
   "metadata": {},
   "outputs": [
    {
     "data": {
      "text/plain": [
       "2.4"
      ]
     },
     "execution_count": 54,
     "metadata": {},
     "output_type": "execute_result"
    }
   ],
   "source": [
    "Z=(190-178)/25**(1/2)\n",
    "Z"
   ]
  },
  {
   "cell_type": "code",
   "execution_count": 55,
   "id": "ae9913be",
   "metadata": {},
   "outputs": [
    {
     "name": "stdout",
     "output_type": "stream",
     "text": [
      "Рост человека, равный 190 см, отклоняется от математического ожидания роста в популяции, \n",
      "в которой M(X) = 178 см и D(X) = 25 кв.см на Z = 2.4 сигм.\n"
     ]
    }
   ],
   "source": [
    "print(f'Рост человека, равный 190 см, отклоняется от математического ожидания роста в популяции, \\n'\n",
    "      f'в которой M(X) = 178 см и D(X) = 25 кв.см на Z = {Z} сигм.')"
   ]
  },
  {
   "cell_type": "markdown",
   "id": "b77097a3",
   "metadata": {},
   "source": [
    "#### Ответ:  \n",
    "На $2.4$ сигмы, отклоняется рост человека, равный 190 см."
   ]
  }
 ],
 "metadata": {
  "kernelspec": {
   "display_name": "Python 3 (ipykernel)",
   "language": "python",
   "name": "python3"
  },
  "language_info": {
   "codemirror_mode": {
    "name": "ipython",
    "version": 3
   },
   "file_extension": ".py",
   "mimetype": "text/x-python",
   "name": "python",
   "nbconvert_exporter": "python",
   "pygments_lexer": "ipython3",
   "version": "3.9.13"
  }
 },
 "nbformat": 4,
 "nbformat_minor": 5
}
