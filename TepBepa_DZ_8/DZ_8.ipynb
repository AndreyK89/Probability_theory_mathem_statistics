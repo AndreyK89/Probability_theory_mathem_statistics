{
 "cells": [
  {
   "cell_type": "markdown",
   "id": "33b63f1b",
   "metadata": {},
   "source": [
    "### Теория вероятностей и математическая статистика (семинары).\n",
    "#### Урок 8. Корреляционный анализ.\n",
    "\n",
    "#### Задача 1.  \n",
    "Даны значения величины заработной платы заемщиков банка (zp) и значения их\n",
    "поведенческого кредитного скоринга (ks):  \n",
    "zp = [35, 45, 190, 200, 40, 70, 54, 150, 120, 110],  \n",
    "ks = [401, 574, 874, 919, 459, 739, 653, 902, 746, 832].  \n",
    "Найдите ковариацию этих двух величин с помощью элементарных действий, а затем с помощью функции cov из numpy.  \n",
    "Полученные значения должны быть равны.  \n",
    "Найдите коэффициент корреляции Пирсона с помощью ковариации и среднеквадратичных отклонений двух признаков,  \n",
    "а затем с использованием функций из библиотек numpy и pandas.\n",
    "#### Решение: "
   ]
  },
  {
   "cell_type": "code",
   "execution_count": 5,
   "id": "8c729b59",
   "metadata": {},
   "outputs": [],
   "source": [
    "import numpy as np\n",
    "import pandas as pd\n",
    "import matplotlib.pyplot as plt\n",
    "\n",
    "%matplotlib inline"
   ]
  },
  {
   "cell_type": "code",
   "execution_count": 6,
   "id": "40656ed6",
   "metadata": {},
   "outputs": [],
   "source": [
    "zp=np.array([35, 45, 190, 200, 40, 70, 54, 150, 120, 110])\n",
    "ks=np.array([401, 574, 874, 919, 459, 739, 653, 902, 746, 832])"
   ]
  },
  {
   "cell_type": "markdown",
   "id": "fb997eeb",
   "metadata": {},
   "source": [
    "Построим график, и посмотрим есть ли зависимость между данными?"
   ]
  },
  {
   "cell_type": "code",
   "execution_count": 12,
   "id": "2c12f909",
   "metadata": {},
   "outputs": [
    {
     "data": {
      "image/png": "[encoded data removed]",
      "text/plain": [
       "<Figure size 640x480 with 1 Axes>"
      ]
     },
     "metadata": {},
     "output_type": "display_data"
    }
   ],
   "source": [
    "plt.scatter(zp,ks)\n",
    "plt.xlabel('Величина заработной платы')\n",
    "plt.ylabel('Поведенческий кредитный скоринг', rotation=90)\n",
    "plt.show()"
   ]
  },
  {
   "cell_type": "markdown",
   "id": "ecd08820",
   "metadata": {},
   "source": [
    "По графику наблюдаем, большим значениям (zp) заработной платы соответствуют большие значения (ks) кредитного скоринга. Из этого следует ожидать, что между этими данными существует выраженная положительная корреляция.  \n",
    "Найдем коэффициент **ковариации** по формуле:  \n",
    "$\\displaystyle cov_{X,Y}=M(XY)-M(X)\\cdot M(Y)$"
   ]
  },
  {
   "cell_type": "code",
   "execution_count": 23,
   "id": "27949a76",
   "metadata": {},
   "outputs": [
    {
     "name": "stdout",
     "output_type": "stream",
     "text": [
      "Коэффициент ковариации =  9157.8400\n"
     ]
    }
   ],
   "source": [
    "def covar(array1, array2):\n",
    "    MXY=sum(array1*array2)/len(array1)\n",
    "    MX=sum(array1)/len(array1)\n",
    "    MY=sum(array2)/len(array2)\n",
    "    return MXY-MX*MY\n",
    "\n",
    "r=covar(zp,ks)\n",
    "print(f'Коэффициент ковариации = {r: .4f}')"
   ]
  },
  {
   "cell_type": "markdown",
   "id": "13692cc0",
   "metadata": {},
   "source": [
    "Воспользуемся функцией cov библиотеки numpy:"
   ]
  },
  {
   "cell_type": "code",
   "execution_count": 15,
   "id": "cd762b7c",
   "metadata": {},
   "outputs": [
    {
     "data": {
      "text/plain": [
       "array([[ 3494.64,  9157.84],\n",
       "       [ 9157.84, 30468.89]])"
      ]
     },
     "execution_count": 15,
     "metadata": {},
     "output_type": "execute_result"
    }
   ],
   "source": [
    "np.cov(zp, ks, ddof=0)"
   ]
  },
  {
   "cell_type": "markdown",
   "id": "a04b6ee3",
   "metadata": {},
   "source": [
    "Коэффициент корреляции Пирсона по формуле:  \n",
    "$\\displaystyle r_{X,Y}=\\frac{cov_{X,Y}}{\\sigma_X\\cdot\\sigma_Y}$  \n",
    "Помним, что для **несмещённой** ковариации берутся **несмещённые** значения среднего квадратического отклонения,  \n",
    "а для **смещённой**-**смещённые**."
   ]
  },
  {
   "cell_type": "code",
   "execution_count": 24,
   "id": "86950866",
   "metadata": {},
   "outputs": [
    {
     "name": "stdout",
     "output_type": "stream",
     "text": [
      "Коэффициент корреляции =  0.8875\n"
     ]
    }
   ],
   "source": [
    "def sigma(array, offset=True):\n",
    "    mean_array=sum(array)/len(array)\n",
    "    square_dev=(array-mean_array)**2\n",
    "    variance=sum(square_dev)/len(array) if offset else sum(square_dev)/(len(array)-1)\n",
    "    return variance**0.5    \n",
    "\n",
    "r=covar(zp, ks)/(sigma(zp)*sigma(ks))\n",
    "print(f'Коэффициент корреляции = {r: .4f}')"
   ]
  },
  {
   "cell_type": "markdown",
   "id": "2039547a",
   "metadata": {},
   "source": [
    "Воспользуемся функцией corrcoef библиотеки numpy:"
   ]
  },
  {
   "cell_type": "code",
   "execution_count": 26,
   "id": "cd7a3996",
   "metadata": {},
   "outputs": [
    {
     "name": "stdout",
     "output_type": "stream",
     "text": [
      "Коэффициент корреляции = [[0.33866702 0.88749009]\n",
      " [0.88749009 2.95275283]]\n"
     ]
    }
   ],
   "source": [
    "r1=np.cov(zp, ks, ddof=1)/(sigma(zp, offset=False)*sigma(ks, offset=False))\n",
    "print(f'Коэффициент корреляции = {r1}')"
   ]
  },
  {
   "cell_type": "markdown",
   "id": "fe1b6269",
   "metadata": {},
   "source": [
    "Воспользуемся функцией corrcoef библиотеки numpy:"
   ]
  },
  {
   "cell_type": "code",
   "execution_count": 29,
   "id": "e3e9f384",
   "metadata": {},
   "outputs": [
    {
     "data": {
      "text/plain": [
       "array([[1.        , 0.88749009],\n",
       "       [0.88749009, 1.        ]])"
      ]
     },
     "execution_count": 29,
     "metadata": {},
     "output_type": "execute_result"
    }
   ],
   "source": [
    "np.corrcoef(zp,ks)"
   ]
  },
  {
   "cell_type": "markdown",
   "id": "f49ba1ac",
   "metadata": {},
   "source": [
    "Воспользуемся функцией corr библиотеки pandas:"
   ]
  },
  {
   "cell_type": "code",
   "execution_count": 30,
   "id": "ed831d07",
   "metadata": {},
   "outputs": [
    {
     "data": {
      "text/html": [
       "<div>\n",
       "<style scoped>\n",
       "    .dataframe tbody tr th:only-of-type {\n",
       "        vertical-align: middle;\n",
       "    }\n",
       "\n",
       "    .dataframe tbody tr th {\n",
       "        vertical-align: top;\n",
       "    }\n",
       "\n",
       "    .dataframe thead th {\n",
       "        text-align: right;\n",
       "    }\n",
       "</style>\n",
       "<table border=\"1\" class=\"dataframe\">\n",
       "  <thead>\n",
       "    <tr style=\"text-align: right;\">\n",
       "      <th></th>\n",
       "      <th>zp</th>\n",
       "      <th>ks</th>\n",
       "    </tr>\n",
       "  </thead>\n",
       "  <tbody>\n",
       "    <tr>\n",
       "      <th>0</th>\n",
       "      <td>35</td>\n",
       "      <td>401</td>\n",
       "    </tr>\n",
       "    <tr>\n",
       "      <th>1</th>\n",
       "      <td>45</td>\n",
       "      <td>574</td>\n",
       "    </tr>\n",
       "    <tr>\n",
       "      <th>2</th>\n",
       "      <td>190</td>\n",
       "      <td>874</td>\n",
       "    </tr>\n",
       "    <tr>\n",
       "      <th>3</th>\n",
       "      <td>200</td>\n",
       "      <td>919</td>\n",
       "    </tr>\n",
       "    <tr>\n",
       "      <th>4</th>\n",
       "      <td>40</td>\n",
       "      <td>459</td>\n",
       "    </tr>\n",
       "    <tr>\n",
       "      <th>5</th>\n",
       "      <td>70</td>\n",
       "      <td>739</td>\n",
       "    </tr>\n",
       "    <tr>\n",
       "      <th>6</th>\n",
       "      <td>54</td>\n",
       "      <td>653</td>\n",
       "    </tr>\n",
       "    <tr>\n",
       "      <th>7</th>\n",
       "      <td>150</td>\n",
       "      <td>902</td>\n",
       "    </tr>\n",
       "    <tr>\n",
       "      <th>8</th>\n",
       "      <td>120</td>\n",
       "      <td>746</td>\n",
       "    </tr>\n",
       "    <tr>\n",
       "      <th>9</th>\n",
       "      <td>110</td>\n",
       "      <td>832</td>\n",
       "    </tr>\n",
       "  </tbody>\n",
       "</table>\n",
       "</div>"
      ],
      "text/plain": [
       "    zp   ks\n",
       "0   35  401\n",
       "1   45  574\n",
       "2  190  874\n",
       "3  200  919\n",
       "4   40  459\n",
       "5   70  739\n",
       "6   54  653\n",
       "7  150  902\n",
       "8  120  746\n",
       "9  110  832"
      ]
     },
     "execution_count": 30,
     "metadata": {},
     "output_type": "execute_result"
    }
   ],
   "source": [
    "df=pd.DataFrame(data={'zp':zp, 'ks':ks})\n",
    "df"
   ]
  },
  {
   "cell_type": "code",
   "execution_count": 31,
   "id": "2bfa18ef",
   "metadata": {},
   "outputs": [
    {
     "data": {
      "text/html": [
       "<div>\n",
       "<style scoped>\n",
       "    .dataframe tbody tr th:only-of-type {\n",
       "        vertical-align: middle;\n",
       "    }\n",
       "\n",
       "    .dataframe tbody tr th {\n",
       "        vertical-align: top;\n",
       "    }\n",
       "\n",
       "    .dataframe thead th {\n",
       "        text-align: right;\n",
       "    }\n",
       "</style>\n",
       "<table border=\"1\" class=\"dataframe\">\n",
       "  <thead>\n",
       "    <tr style=\"text-align: right;\">\n",
       "      <th></th>\n",
       "      <th>zp</th>\n",
       "      <th>ks</th>\n",
       "    </tr>\n",
       "  </thead>\n",
       "  <tbody>\n",
       "    <tr>\n",
       "      <th>zp</th>\n",
       "      <td>1.00000</td>\n",
       "      <td>0.88749</td>\n",
       "    </tr>\n",
       "    <tr>\n",
       "      <th>ks</th>\n",
       "      <td>0.88749</td>\n",
       "      <td>1.00000</td>\n",
       "    </tr>\n",
       "  </tbody>\n",
       "</table>\n",
       "</div>"
      ],
      "text/plain": [
       "         zp       ks\n",
       "zp  1.00000  0.88749\n",
       "ks  0.88749  1.00000"
      ]
     },
     "execution_count": 31,
     "metadata": {},
     "output_type": "execute_result"
    }
   ],
   "source": [
    "df.corr()"
   ]
  },
  {
   "cell_type": "code",
   "execution_count": 13,
   "id": "cf49ba38",
   "metadata": {},
   "outputs": [
    {
     "data": {
      "image/png": "[encoded data removed]",
      "text/plain": [
       "<Figure size 640x480 with 1 Axes>"
      ]
     },
     "metadata": {},
     "output_type": "display_data"
    }
   ],
   "source": [
    "plt.scatter(zp,ks)\n",
    "plt.plot(zp, 444.18+2.62*zp, c='r')\n",
    "plt.xlabel('Величина заработной платы')\n",
    "plt.ylabel('Поведенческий кредитный скоринг', rotation=90)\n",
    "plt.show()"
   ]
  },
  {
   "cell_type": "markdown",
   "id": "bbc28dd0",
   "metadata": {},
   "source": [
    "#### Ответ:  \n",
    "Как и предполагалось из графика, существует сильная линейная взаимосвязь между исходными данными."
   ]
  },
  {
   "cell_type": "markdown",
   "id": "31b14070",
   "metadata": {},
   "source": [
    "#### Задача 2.  \n",
    "Измерены значения IQ выборки студентов, обучающихся в местных технических вузах:  \n",
    "131, 125, 115, 122, 131, 115, 107, 99, 125, 111.  \n",
    "Известно, что в генеральной совокупности IQ распределен нормально.  \n",
    "Найдите доверительный интервал для математического ожидания с надежностью 0.95.  \n",
    "#### Решение:  \n",
    "По условию задачи: мат. ожидании генеральной совокупности **не известно**, о среднем квадратическом отклонении для генеральной совокупности **не известно** => для расчета 95%-го доверительного интервала будем использовать t-критерий и формулу:  \n",
    "$\\bar X\\pm t_{\\alpha/2}\\cdot\\frac{\\sigma_{несмещ}}{\\sqrt{n}}$"
   ]
  },
  {
   "cell_type": "code",
   "execution_count": 38,
   "id": "5138ab4e",
   "metadata": {},
   "outputs": [
    {
     "name": "stdout",
     "output_type": "stream",
     "text": [
      "Среднее выборочное:  118.100,\n",
      "Размер выборки n=10,\n",
      "Среднее квадратическое отклонение по выборке(несмещенное):  10.546.\n"
     ]
    }
   ],
   "source": [
    "arr=np.array([131, 125, 115, 122, 131, 115, 107, 99, 125, 111])\n",
    "print(f'Среднее выборочное: {np.mean(arr): .3f},\\n'\n",
    "      f'Размер выборки n={len(arr)},\\n'\n",
    "      f'Среднее квадратическое отклонение по выборке(несмещенное): {np.std(arr, ddof=1): .3f}.'\n",
    "     )"
   ]
  },
  {
   "cell_type": "code",
   "execution_count": 37,
   "id": "2bc2d3ba",
   "metadata": {},
   "outputs": [
    {
     "name": "stdout",
     "output_type": "stream",
     "text": [
      "Табличное значение t-критерия для 95%-го доверительного интервала данной выборки = 2.262\n"
     ]
    }
   ],
   "source": [
    "import scipy.stats as stats\n",
    "def t_from_table(confidens, len_array):\n",
    "    alpha=(1-confidens)\n",
    "    return stats.t.ppf(1-alpha/2, len_array-1)\n",
    "print(f'Табличное значение t-критерия для 95%-го доверительного интервала данной выборки ={t_from_table(0.95, len(arr)): .3f}')"
   ]
  },
  {
   "cell_type": "code",
   "execution_count": 46,
   "id": "3c95c39f",
   "metadata": {},
   "outputs": [
    {
     "name": "stdout",
     "output_type": "stream",
     "text": [
      "Ответ: \n",
      "95%-й доверительный интервал для истинного значения IQ = (110.556, 125.644).\n"
     ]
    }
   ],
   "source": [
    "def confidens_int(arr, confidens):\n",
    "    return round(np.mean(arr)-t_from_table(confidens,len(arr))*np.std(arr, ddof=1)/len(arr)**0.5,3), \\\n",
    "           round(np.mean(arr)+t_from_table(confidens,len(arr))*np.std(arr, ddof=1)/len(arr)**0.5,3)\n",
    "\n",
    "print(f'Ответ: \\n'  \n",
    "      f'95%-й доверительный интервал для истинного значения IQ = {confidens_int(arr, 0.95)}.')"
   ]
  },
  {
   "cell_type": "markdown",
   "id": "60c06c9a",
   "metadata": {},
   "source": [
    "#### Задача 3.  \n",
    "Известно, что рост футболистов в сборной распределен нормально с дисперсией генеральной совокупности,  \n",
    "равной 25 кв.см. Объем выборки равен 27, среднее выборочное составляет 174.2.  \n",
    "Найдите доверительный интервал для математического ожидания с надежностью 0.95.  \n",
    "#### Решение:  \n",
    "Поскольку нам известнa дисперсия генеральной совокупности $\\sigma^2=25$, то для расчета $95\\%$-го доверительного интервала, будем использовать $Z$-критерий. И границы доверительного интервала расчитаем по формуле:  \\n\",\n",
    "$\\bar X\\pm z_{\\alpha/2}\\cdot\\frac{\\sqrt{\\sigma^2}}{\\sqrt n}$, где:  \n",
    "$\\bar X=M=174.2$-среднее значение выборки,  \n",
    "$z_{\\alpha/2}$ табличное значение $Z$-критерия, и для $95\\%$-го доверительного интервала $z_{\\alpha/2}=1,96$,  \n",
    "$\\sigma^2=25$-дисперсия генеральной совокупности,  \n",
    "$n=27$-объем выборки "
   ]
  },
  {
   "cell_type": "code",
   "execution_count": 14,
   "id": "3c25803c",
   "metadata": {},
   "outputs": [
    {
     "name": "stdout",
     "output_type": "stream",
     "text": [
      "Ответ: \n",
      "95%-й доверительный интервал для оценки мат. ожидания генеральной совокупности:[ 172.3140; 176.0860].\n"
     ]
    }
   ],
   "source": [
    "left=174.2-(1.96*25**0.5)/27**0.5\n",
    "right=174.2+(1.96*25**0.5)/27**0.5\n",
    "print(f'Ответ: \\n'\n",
    "    f'95%-й доверительный интервал для оценки мат. ожидания генеральной совокупности:[{left: .4f};{right: .4f}].')"
   ]
  }
 ],
 "metadata": {
  "kernelspec": {
   "display_name": "Python 3 (ipykernel)",
   "language": "python",
   "name": "python3"
  },
  "language_info": {
   "codemirror_mode": {
    "name": "ipython",
    "version": 3
   },
   "file_extension": ".py",
   "mimetype": "text/x-python",
   "name": "python",
   "nbconvert_exporter": "python",
   "pygments_lexer": "ipython3",
   "version": "3.9.13"
  }
 },
 "nbformat": 4,
 "nbformat_minor": 5
}
